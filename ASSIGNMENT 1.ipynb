{
 "cells": [
  {
   "cell_type": "markdown",
   "id": "f1820d33-e617-4ec2-b611-1595df1595a6",
   "metadata": {},
   "source": [
    "Q1 i)"
   ]
  },
  {
   "cell_type": "code",
   "execution_count": 1,
   "id": "5b09d627-096c-4df3-87f9-5f5b083ae818",
   "metadata": {},
   "outputs": [],
   "source": [
    "a = 'karan'"
   ]
  },
  {
   "cell_type": "code",
   "execution_count": 4,
   "id": "78964f55-fce6-4193-a904-d24cedc76e8c",
   "metadata": {},
   "outputs": [
    {
     "data": {
      "text/plain": [
       "str"
      ]
     },
     "execution_count": 4,
     "metadata": {},
     "output_type": "execute_result"
    }
   ],
   "source": [
    "type(a)"
   ]
  },
  {
   "cell_type": "markdown",
   "id": "43aaa886-29d2-4f33-be9c-f85c0cd9351e",
   "metadata": {},
   "source": [
    "Q1 ii)"
   ]
  },
  {
   "cell_type": "code",
   "execution_count": 2,
   "id": "077400c8-1a6d-4d5f-89c3-0f58d9330a3b",
   "metadata": {},
   "outputs": [],
   "source": [
    "b = ['karan' , 2 , 5 , 9 , 57.456 , True]"
   ]
  },
  {
   "cell_type": "code",
   "execution_count": 5,
   "id": "0f994fef-54e2-4787-9baa-081db6f41fb5",
   "metadata": {},
   "outputs": [
    {
     "data": {
      "text/plain": [
       "list"
      ]
     },
     "execution_count": 5,
     "metadata": {},
     "output_type": "execute_result"
    }
   ],
   "source": [
    "type(b)"
   ]
  },
  {
   "cell_type": "markdown",
   "id": "9a500fbd-a923-4a09-8b36-1097c44abba1",
   "metadata": {},
   "source": [
    "Q1 iii)"
   ]
  },
  {
   "cell_type": "code",
   "execution_count": 3,
   "id": "07f01fb5-87e8-4ea2-b344-7cb37f56a789",
   "metadata": {},
   "outputs": [],
   "source": [
    "c = 45.673"
   ]
  },
  {
   "cell_type": "code",
   "execution_count": 6,
   "id": "7855e227-eeb3-4517-b660-d5ac30017745",
   "metadata": {},
   "outputs": [
    {
     "data": {
      "text/plain": [
       "float"
      ]
     },
     "execution_count": 6,
     "metadata": {},
     "output_type": "execute_result"
    }
   ],
   "source": [
    "type(c)"
   ]
  },
  {
   "cell_type": "markdown",
   "id": "7e87bd14-6bf3-490e-8c7e-45b7960f0ceb",
   "metadata": {},
   "source": [
    "Q1 iv)"
   ]
  },
  {
   "cell_type": "code",
   "execution_count": 7,
   "id": "ba44454a-b8c6-4ca9-b5d8-829b095346cf",
   "metadata": {},
   "outputs": [],
   "source": [
    "l = ('karan' , 93.547 , True , 2 , 6 , 7 , 9 , \"PWSKILLS\")"
   ]
  },
  {
   "cell_type": "code",
   "execution_count": 8,
   "id": "74362a72-e287-4d44-acef-2f38a48e5ac0",
   "metadata": {},
   "outputs": [
    {
     "data": {
      "text/plain": [
       "tuple"
      ]
     },
     "execution_count": 8,
     "metadata": {},
     "output_type": "execute_result"
    }
   ],
   "source": [
    "type(l)"
   ]
  },
  {
   "cell_type": "markdown",
   "id": "8ccd8912-612c-496c-9c9e-00f826c431ca",
   "metadata": {},
   "source": [
    "Q2 i)"
   ]
  },
  {
   "cell_type": "code",
   "execution_count": 12,
   "id": "ce3a08ed-37f3-4949-99f8-21d2575c495c",
   "metadata": {},
   "outputs": [],
   "source": [
    "var1=' '"
   ]
  },
  {
   "cell_type": "code",
   "execution_count": 2,
   "id": "e0ee576a-0057-4f79-952c-31a6466f8a9c",
   "metadata": {},
   "outputs": [
    {
     "data": {
      "text/plain": [
       "str"
      ]
     },
     "execution_count": 2,
     "metadata": {},
     "output_type": "execute_result"
    }
   ],
   "source": [
    "type(var1)"
   ]
  },
  {
   "cell_type": "markdown",
   "id": "00363a97-76b3-43ed-af49-4aec5b9c339b",
   "metadata": {},
   "source": [
    "Q2 ii)"
   ]
  },
  {
   "cell_type": "code",
   "execution_count": 3,
   "id": "57228438-6a23-48fb-9443-148dd5e5e29c",
   "metadata": {},
   "outputs": [],
   "source": [
    "var2='[ DS, ML,Python ]'"
   ]
  },
  {
   "cell_type": "code",
   "execution_count": 4,
   "id": "e61a61e4-145d-4c1f-85fb-1065d9d04b79",
   "metadata": {},
   "outputs": [
    {
     "data": {
      "text/plain": [
       "str"
      ]
     },
     "execution_count": 4,
     "metadata": {},
     "output_type": "execute_result"
    }
   ],
   "source": [
    "type(var2)"
   ]
  },
  {
   "cell_type": "markdown",
   "id": "476fdcad-8e37-477b-9ca8-a438d8a1e03a",
   "metadata": {},
   "source": [
    "Q2 iii)"
   ]
  },
  {
   "cell_type": "code",
   "execution_count": 5,
   "id": "2fddd2e6-a88f-46ce-b7c0-71eae536c574",
   "metadata": {},
   "outputs": [],
   "source": [
    "var3=[ 'DS', 'ML','Python' ]"
   ]
  },
  {
   "cell_type": "code",
   "execution_count": 6,
   "id": "f8985342-39f6-42d5-a4fa-79ba3163c58c",
   "metadata": {},
   "outputs": [
    {
     "data": {
      "text/plain": [
       "list"
      ]
     },
     "execution_count": 6,
     "metadata": {},
     "output_type": "execute_result"
    }
   ],
   "source": [
    "type(var3)"
   ]
  },
  {
   "cell_type": "markdown",
   "id": "5d50733a-60fb-4a5a-b668-7955220f851d",
   "metadata": {},
   "source": [
    "Q2 iv)"
   ]
  },
  {
   "cell_type": "code",
   "execution_count": 8,
   "id": "39cea858-a0e2-4c69-be2e-8b570e56560d",
   "metadata": {},
   "outputs": [],
   "source": [
    "var4=1"
   ]
  },
  {
   "cell_type": "code",
   "execution_count": 9,
   "id": "f9ca220f-b568-46df-abdc-e22ba6f88bed",
   "metadata": {},
   "outputs": [
    {
     "data": {
      "text/plain": [
       "int"
      ]
     },
     "execution_count": 9,
     "metadata": {},
     "output_type": "execute_result"
    }
   ],
   "source": [
    "type(var4)"
   ]
  },
  {
   "cell_type": "markdown",
   "id": "87c013a0-7f4e-493e-a976-ae4d4ab4402d",
   "metadata": {},
   "source": [
    "Q3) i)"
   ]
  },
  {
   "cell_type": "markdown",
   "id": "8ff60eb2-2830-401f-8058-777f6fa82478",
   "metadata": {},
   "source": [
    "The given operator '/' is part of arithmatic operators,which is used to perform division tasks."
   ]
  },
  {
   "cell_type": "code",
   "execution_count": 9,
   "id": "9a6181e4-8cb9-4ff8-83d8-4d895de9de82",
   "metadata": {},
   "outputs": [
    {
     "data": {
      "text/plain": [
       "0.4"
      ]
     },
     "execution_count": 9,
     "metadata": {},
     "output_type": "execute_result"
    }
   ],
   "source": [
    "2/5"
   ]
  },
  {
   "cell_type": "markdown",
   "id": "5f70839e-a18c-48a4-9c6e-29ff3bf44fa9",
   "metadata": {},
   "source": [
    "Q3 ii)"
   ]
  },
  {
   "cell_type": "markdown",
   "id": "8ee7041f-284b-49c5-a546-4ea5632d163e",
   "metadata": {},
   "source": [
    "The given operator '%' is part of arithmatic operators,which is used to perform modulus tasks."
   ]
  },
  {
   "cell_type": "code",
   "execution_count": 10,
   "id": "92f19bd1-8472-46c3-922f-ce7ee3a86d10",
   "metadata": {},
   "outputs": [
    {
     "data": {
      "text/plain": [
       "4"
      ]
     },
     "execution_count": 10,
     "metadata": {},
     "output_type": "execute_result"
    }
   ],
   "source": [
    "4%6"
   ]
  },
  {
   "cell_type": "markdown",
   "id": "b5c90f99-4688-4732-ad4f-8b7d3f534e38",
   "metadata": {},
   "source": [
    "Q3 iii)"
   ]
  },
  {
   "cell_type": "markdown",
   "id": "67c6f6ba-737f-4c7e-a263-9bc96e52d753",
   "metadata": {},
   "source": [
    "The given operator '//' is part of arithmatic operators,which is used to perform floor division tasks."
   ]
  },
  {
   "cell_type": "code",
   "execution_count": 11,
   "id": "c9ec8a70-f889-44c8-abc5-ea3d777b7f49",
   "metadata": {},
   "outputs": [
    {
     "data": {
      "text/plain": [
       "0"
      ]
     },
     "execution_count": 11,
     "metadata": {},
     "output_type": "execute_result"
    }
   ],
   "source": [
    "4//7"
   ]
  },
  {
   "cell_type": "markdown",
   "id": "49478a45-bc46-40c7-b8da-39ec10cdca29",
   "metadata": {},
   "source": [
    "Q3 iv)"
   ]
  },
  {
   "cell_type": "markdown",
   "id": "522ee83d-1e14-41ff-b204-5900e225e198",
   "metadata": {},
   "source": [
    "The given operator '**' is part of arithmatic operators,which is used to perform power tasks where returns first raises to the power second."
   ]
  },
  {
   "cell_type": "code",
   "execution_count": 12,
   "id": "de5316dc-801b-4e7b-af49-b039cc312229",
   "metadata": {},
   "outputs": [
    {
     "data": {
      "text/plain": [
       "8"
      ]
     },
     "execution_count": 12,
     "metadata": {},
     "output_type": "execute_result"
    }
   ],
   "source": [
    "2**3"
   ]
  },
  {
   "cell_type": "markdown",
   "id": "28ad160f-6614-4a31-860a-c1e11d42c2e3",
   "metadata": {},
   "source": [
    "Q4 "
   ]
  },
  {
   "cell_type": "code",
   "execution_count": 5,
   "id": "e23c3448-5242-4357-bccd-538faf335a98",
   "metadata": {},
   "outputs": [],
   "source": [
    "p = ['mahesh' , 2 ,6 , 4 , 9 , 1 , \"PWSKSILLS\" , False , 39.026 , 4 + 9j ]"
   ]
  },
  {
   "cell_type": "code",
   "execution_count": 6,
   "id": "3568b16e-2589-4748-b695-ca5561507032",
   "metadata": {},
   "outputs": [
    {
     "name": "stdout",
     "output_type": "stream",
     "text": [
      "<class 'str'>\n",
      "mahesh\n",
      "<class 'int'>\n",
      "2\n",
      "<class 'int'>\n",
      "6\n",
      "<class 'int'>\n",
      "4\n",
      "<class 'int'>\n",
      "9\n",
      "<class 'int'>\n",
      "1\n",
      "<class 'str'>\n",
      "PWSKSILLS\n",
      "<class 'bool'>\n",
      "False\n",
      "<class 'float'>\n",
      "39.026\n",
      "<class 'complex'>\n",
      "(4+9j)\n"
     ]
    }
   ],
   "source": [
    "for i in p :\n",
    "    print(type(i))\n",
    "    print(i)"
   ]
  },
  {
   "cell_type": "markdown",
   "id": "c0d2d1c5-ac0c-43ce-a66d-fc43814888b3",
   "metadata": {},
   "source": [
    "Q5"
   ]
  },
  {
   "cell_type": "code",
   "execution_count": 13,
   "id": "ec2484b8-a053-4a90-9c6e-95d60150467b",
   "metadata": {
    "scrolled": true,
    "tags": []
   },
   "outputs": [],
   "source": [
    "def count_division(A,B) :\n",
    "    count = 0\n",
    "    while A % B == 0 :\n",
    "        count += 1\n",
    "        A = A/B\n",
    "        return count\n",
    "    print(f\"Number A is divisible by number B:{count_division(100,2)} times.\") "
   ]
  },
  {
   "cell_type": "markdown",
   "id": "65e6343d-320c-40b6-9362-13ed4c652330",
   "metadata": {},
   "source": [
    "Q6\n"
   ]
  },
  {
   "cell_type": "code",
   "execution_count": 15,
   "id": "2570bdd5-b7cd-4888-b6eb-77d6ba2ffb7f",
   "metadata": {},
   "outputs": [],
   "source": [
    "l = [ 1,2,3,4,5,6,7,8,9,10,11,12,13,14,15,16,17,18,19,20,21,22,23,24,25]"
   ]
  },
  {
   "cell_type": "code",
   "execution_count": 16,
   "id": "f1f65564-90e3-4184-9b82-ec070aa7d85f",
   "metadata": {},
   "outputs": [
    {
     "name": "stdout",
     "output_type": "stream",
     "text": [
      "the number is not divisible by 3\n",
      "the number is not divisible by 3\n",
      "the number is divisible by 3\n",
      "the number is not divisible by 3\n",
      "the number is not divisible by 3\n",
      "the number is divisible by 3\n",
      "the number is not divisible by 3\n",
      "the number is not divisible by 3\n",
      "the number is divisible by 3\n",
      "the number is not divisible by 3\n",
      "the number is not divisible by 3\n",
      "the number is divisible by 3\n",
      "the number is not divisible by 3\n",
      "the number is not divisible by 3\n",
      "the number is divisible by 3\n",
      "the number is not divisible by 3\n",
      "the number is not divisible by 3\n",
      "the number is divisible by 3\n",
      "the number is not divisible by 3\n",
      "the number is not divisible by 3\n",
      "the number is divisible by 3\n",
      "the number is not divisible by 3\n",
      "the number is not divisible by 3\n",
      "the number is divisible by 3\n",
      "the number is not divisible by 3\n"
     ]
    }
   ],
   "source": [
    "for i in l :\n",
    "    if i%3 == 0 :\n",
    "         print(\"the number is divisible by 3\")\n",
    "    else:\n",
    "         print(\"the number is not divisible by 3\")"
   ]
  },
  {
   "cell_type": "markdown",
   "id": "84681193-8f76-4af2-9beb-24d8bdeff119",
   "metadata": {},
   "source": [
    "Q7\n"
   ]
  },
  {
   "cell_type": "markdown",
   "id": "c2c620d2-ce4e-420c-aadc-a3affdaf4faa",
   "metadata": {},
   "source": [
    "An object whose value or state can modified after it is created are called mutable data types.\n",
    " \n",
    " Examples:- list , dictionaries , sets."
   ]
  },
  {
   "cell_type": "code",
   "execution_count": 22,
   "id": "43ff0181-bb48-4622-afcf-3f2693a1aaae",
   "metadata": {},
   "outputs": [],
   "source": [
    "m = ['Abhishek' , 4,6,7,9,2, 12.577,True, 4 +3j]"
   ]
  },
  {
   "cell_type": "code",
   "execution_count": 23,
   "id": "0c7101ef-6ba4-40db-badf-3c9139e1e3cd",
   "metadata": {},
   "outputs": [],
   "source": [
    "m[2] = 5"
   ]
  },
  {
   "cell_type": "code",
   "execution_count": 24,
   "id": "ae6b2b03-2e08-4e69-be6a-a87054ae2461",
   "metadata": {},
   "outputs": [
    {
     "data": {
      "text/plain": [
       "['Abhishek', 4, 5, 7, 9, 2, 12.577, True, (4+3j)]"
      ]
     },
     "execution_count": 24,
     "metadata": {},
     "output_type": "execute_result"
    }
   ],
   "source": [
    "m"
   ]
  },
  {
   "cell_type": "markdown",
   "id": "d2752ce1-f630-4aaf-ac66-f17a47d105d0",
   "metadata": {},
   "source": [
    "An object whose value or state can not modified after it is created are called immutable data types.\n",
    "\n",
    "Examples:-strings , tuples."
   ]
  },
  {
   "cell_type": "code",
   "execution_count": 18,
   "id": "f11417d8-a3ad-4a2f-97f7-820460236b9d",
   "metadata": {},
   "outputs": [],
   "source": [
    "s = 'Abhishek'"
   ]
  },
  {
   "cell_type": "code",
   "execution_count": 21,
   "id": "7fad8a3d-e75c-48a3-b47f-cd90e650897c",
   "metadata": {},
   "outputs": [
    {
     "ename": "TypeError",
     "evalue": "'str' object does not support item assignment",
     "output_type": "error",
     "traceback": [
      "\u001b[0;31m---------------------------------------------------------------------------\u001b[0m",
      "\u001b[0;31mTypeError\u001b[0m                                 Traceback (most recent call last)",
      "Cell \u001b[0;32mIn[21], line 1\u001b[0m\n\u001b[0;32m----> 1\u001b[0m \u001b[43ms\u001b[49m\u001b[43m[\u001b[49m\u001b[38;5;241;43m1\u001b[39;49m\u001b[43m]\u001b[49m \u001b[38;5;241m=\u001b[39m \u001b[38;5;124m'\u001b[39m\u001b[38;5;124mp\u001b[39m\u001b[38;5;124m'\u001b[39m\n",
      "\u001b[0;31mTypeError\u001b[0m: 'str' object does not support item assignment"
     ]
    }
   ],
   "source": [
    "s[1] = 'p'"
   ]
  }
 ],
 "metadata": {
  "kernelspec": {
   "display_name": "Python 3 (ipykernel)",
   "language": "python",
   "name": "python3"
  },
  "language_info": {
   "codemirror_mode": {
    "name": "ipython",
    "version": 3
   },
   "file_extension": ".py",
   "mimetype": "text/x-python",
   "name": "python",
   "nbconvert_exporter": "python",
   "pygments_lexer": "ipython3",
   "version": "3.10.8"
  }
 },
 "nbformat": 4,
 "nbformat_minor": 5
}
